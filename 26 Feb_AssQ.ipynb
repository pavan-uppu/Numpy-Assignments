{
 "cells": [
  {
   "cell_type": "markdown",
   "id": "ee48953f-74c5-449d-b56f-dcce5024c7b1",
   "metadata": {},
   "source": [
    "Consider the below code to answer further questions:\n",
    "\n",
    "\n",
    "import numpy as np\n",
    "\n",
    "list_ = [ ‘1’ , ’2’ , ‘3’ , ‘4’ , ‘5’ ]\n",
    "\n",
    "array_list = np.array(object = list_)\n",
    "\n",
    "Q1. Is there any difference in the data type of variables list_ and array_list? If there is then write a code\n",
    "to print the data types of both the variables."
   ]
  },
  {
   "cell_type": "code",
   "execution_count": 1,
   "id": "c03f80d1-9f5b-48ef-bb2c-c24f930f3590",
   "metadata": {},
   "outputs": [
    {
     "name": "stdout",
     "output_type": "stream",
     "text": [
      "<class 'list'>\n",
      "<class 'numpy.ndarray'>\n"
     ]
    }
   ],
   "source": [
    "import numpy as np\n",
    "list_ = ['1','2','3','4','5']\n",
    "\n",
    "array_list = np.array(object = list_)\n",
    "print(type(list_))\n",
    "print(type(array_list))"
   ]
  },
  {
   "cell_type": "code",
   "execution_count": 2,
   "id": "19d18717-1f5f-4df0-8289-77b85d714a30",
   "metadata": {},
   "outputs": [],
   "source": [
    "# Yes, there is a difference in the data type of variables list_ and array_list. In Python, list_ is a Python list, which can hold elements of \n",
    "# different data types, whereas array_list is a NumPy array created from the list and it can hold single data type for its elements."
   ]
  },
  {
   "cell_type": "markdown",
   "id": "909eb953-b559-40c5-81a7-0d14006c68f6",
   "metadata": {},
   "source": [
    "Q2. Write a code to print the data type of each and every element of both the variables list_ and\n",
    "arra_list."
   ]
  },
  {
   "cell_type": "code",
   "execution_count": 4,
   "id": "f80b2eba-b541-4e7d-8953-f2b7a8f09d74",
   "metadata": {},
   "outputs": [
    {
     "name": "stdout",
     "output_type": "stream",
     "text": [
      "data type of list_ is <class 'list'>\n",
      "data type of array_list is <class 'numpy.ndarray'>\n"
     ]
    }
   ],
   "source": [
    "print('data type of list_ is {}\\ndata type of array_list is {}'.format(type(list_), type(array_list)))"
   ]
  },
  {
   "cell_type": "markdown",
   "id": "f47169dd-9117-4d30-b07e-87cf32d9045b",
   "metadata": {},
   "source": [
    "Q3. Considering the following changes in the variable, array_list:\n",
    "\n",
    "array_list = np.array(object = list_, dtype = int)\n",
    "\n",
    "Will there be any difference in the data type of the elements present in both the variables, list_ and\n",
    "arra_list? If so then print the data types of each and every element present in both the variables, list_\n",
    "and arra_list.\n",
    "\n"
   ]
  },
  {
   "cell_type": "code",
   "execution_count": 5,
   "id": "0062cff7-ae3b-437a-98ba-64e942d8e74d",
   "metadata": {},
   "outputs": [],
   "source": [
    "# Yes, there will be difference in the data type of the elements present in the variables list_ and array_list after specifying the dtype as int when \n",
    "# creating array_list. All elements in array_list will be converted to the integer data type, whereas list_ may still contain string data types."
   ]
  },
  {
   "cell_type": "code",
   "execution_count": 6,
   "id": "30805594-317b-4cb1-b20e-cf76f0dedb15",
   "metadata": {},
   "outputs": [
    {
     "name": "stdout",
     "output_type": "stream",
     "text": [
      "<class 'str'>\n",
      "<class 'str'>\n",
      "<class 'str'>\n",
      "<class 'str'>\n",
      "<class 'str'>\n",
      "<class 'numpy.int64'>\n",
      "<class 'numpy.int64'>\n",
      "<class 'numpy.int64'>\n",
      "<class 'numpy.int64'>\n",
      "<class 'numpy.int64'>\n"
     ]
    }
   ],
   "source": [
    "array_list = np.array(object = list_, dtype = int)\n",
    "for i in list_:\n",
    "    print(type(i))\n",
    "\n",
    "for i in array_list:\n",
    "    print(type(i))"
   ]
  },
  {
   "cell_type": "markdown",
   "id": "90e445a0-1f18-413d-a88b-bf02d331e778",
   "metadata": {},
   "source": [
    "Consider the below code to answer further questions:\n",
    "\n",
    "import numpy as np\n",
    "\n",
    "num_list = [ [ 1 , 2 , 3 ] , [ 4 , 5 , 6 ] ]\n",
    "\n",
    "num_array = np.array(object = num_list)\n",
    "\n",
    "Q4. Write a code to find the following characteristics of variable, num_array:\n",
    "\n",
    "(i)\t shape\n",
    "\n",
    "(ii) size"
   ]
  },
  {
   "cell_type": "code",
   "execution_count": 7,
   "id": "06d0ba9a-e5b5-449c-a7a2-b3882ded0e08",
   "metadata": {},
   "outputs": [],
   "source": [
    "import numpy as np\n",
    "num_list = [ [ 1 , 2 , 3 ] , [ 4 , 5 , 6 ] ]\n",
    "num_array = np.array(object = num_list)"
   ]
  },
  {
   "cell_type": "code",
   "execution_count": 8,
   "id": "5d355730-e6ef-4da5-9757-ea6623a83637",
   "metadata": {},
   "outputs": [
    {
     "name": "stdout",
     "output_type": "stream",
     "text": [
      "(2, 3)\n",
      "6\n"
     ]
    }
   ],
   "source": [
    "# 1)  shape\n",
    "print(num_array.shape)\n",
    "# 2)  size\n",
    "print(num_array.size)"
   ]
  },
  {
   "cell_type": "markdown",
   "id": "012eec37-8817-4663-b682-d0a3f5e62fa9",
   "metadata": {},
   "source": [
    "Q5. Write a code to create numpy array of 3*3 matrix containing zeros only, using a numpy array\n",
    "creation function.\n",
    "\n",
    "[Hint: The size of the array will be 9 and the shape will be (3,3).]"
   ]
  },
  {
   "cell_type": "code",
   "execution_count": 12,
   "id": "37da9ea7-cad0-4e32-985c-5c713f129824",
   "metadata": {},
   "outputs": [
    {
     "name": "stdout",
     "output_type": "stream",
     "text": [
      "[[0. 0. 0.]\n",
      " [0. 0. 0.]\n",
      " [0. 0. 0.]]\n",
      "<class 'numpy.ndarray'>\n"
     ]
    }
   ],
   "source": [
    "ar = np.zeros((3,3))\n",
    "print(ar)\n",
    "print(type(ar))"
   ]
  },
  {
   "cell_type": "markdown",
   "id": "caed9d5c-46b9-42dd-a210-d567c1ad95c6",
   "metadata": {},
   "source": [
    "Q6. Create an identity matrix of shape (5,5) using numpy functions?\n",
    "\n",
    "[Hint: An identity matrix is a matrix containing 1 diagonally and other elements will be 0.]"
   ]
  },
  {
   "cell_type": "code",
   "execution_count": 14,
   "id": "27e837de-b567-4eb3-9f79-06943eaa881b",
   "metadata": {},
   "outputs": [
    {
     "data": {
      "text/plain": [
       "array([[1., 0., 0., 0., 0.],\n",
       "       [0., 1., 0., 0., 0.],\n",
       "       [0., 0., 1., 0., 0.],\n",
       "       [0., 0., 0., 1., 0.],\n",
       "       [0., 0., 0., 0., 1.]])"
      ]
     },
     "execution_count": 14,
     "metadata": {},
     "output_type": "execute_result"
    }
   ],
   "source": [
    "arr = np.eye(5)\n",
    "arr"
   ]
  },
  {
   "cell_type": "code",
   "execution_count": 15,
   "id": "298153dc-8fb9-40b2-ba23-693353dbc9fe",
   "metadata": {},
   "outputs": [
    {
     "data": {
      "text/plain": [
       "array([[1, 0, 0, 0, 0],\n",
       "       [0, 1, 0, 0, 0],\n",
       "       [0, 0, 1, 0, 0],\n",
       "       [0, 0, 0, 1, 0],\n",
       "       [0, 0, 0, 0, 1]])"
      ]
     },
     "execution_count": 15,
     "metadata": {},
     "output_type": "execute_result"
    }
   ],
   "source": [
    "np.diag([1,1,1,1,1])"
   ]
  }
 ],
 "metadata": {
  "kernelspec": {
   "display_name": "Python 3 (ipykernel)",
   "language": "python",
   "name": "python3"
  },
  "language_info": {
   "codemirror_mode": {
    "name": "ipython",
    "version": 3
   },
   "file_extension": ".py",
   "mimetype": "text/x-python",
   "name": "python",
   "nbconvert_exporter": "python",
   "pygments_lexer": "ipython3",
   "version": "3.10.8"
  }
 },
 "nbformat": 4,
 "nbformat_minor": 5
}
